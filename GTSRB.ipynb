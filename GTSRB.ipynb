{
 "cells": [
  {
   "cell_type": "code",
   "execution_count": null,
   "id": "60f1fdbb",
   "metadata": {
    "gradient": {
     "editing": false,
     "id": "60f1fdbb",
     "kernelId": "ddc89993-c281-4b6d-ac17-84eebf753144"
    }
   },
   "outputs": [],
   "source": [
    "import tensorflow as tf\n",
    "tf.config.list_physical_devices('GPU')"
   ]
  },
  {
   "cell_type": "code",
   "execution_count": null,
   "id": "b641201d",
   "metadata": {
    "gradient": {
     "editing": false,
     "id": "b641201d",
     "kernelId": "ddc89993-c281-4b6d-ac17-84eebf753144"
    }
   },
   "outputs": [],
   "source": [
    "#Run once to pull the GTSRB archive from OneDrive to Gradient and then unzip the contents\n",
    "#https://arpitapatel.wordpress.com/2017/11/11/how-to-download-files-and-folders-from-onedrive-using-wget/\n",
    "#wget --no-check-certificate -O GTSRB.zip \"https://onedrive.live.com/download?cid=5A94600CB7BF3E5C&resid=5A94600CB7BF3E5C%21119851&authkey=AFAmaa2S07ersB0\"\n",
    "#import zipfile\n",
    "#with zipfile.ZipFile(\"GTSRB.zip\",\"r\") as zip_ref:\n",
    "#    zip_ref.extractall(\"data\")\n",
    "#with zipfile.ZipFile(\"Test.zip\",\"r\") as zip_ref:\n",
    "#    zip_ref.extractall(\"data\")\n"
   ]
  },
  {
   "cell_type": "code",
   "execution_count": null,
   "id": "12ad7592-5d57-43c5-866c-3fc2d2b2df3c",
   "metadata": {
    "gradient": {
     "editing": false,
     "id": "12ad7592-5d57-43c5-866c-3fc2d2b2df3c",
     "kernelId": "ddc89993-c281-4b6d-ac17-84eebf753144",
     "source_hidden": false
    }
   },
   "outputs": [],
   "source": [
    "#import pandas as pd\n",
    "import numpy as np\n",
    "import os\n",
    "#import matplotlib.pyplot as plt\n",
    "import random\n",
    "import tensorflow as tf\n",
    "from tensorflow.keras.models import Sequential\n",
    "from tensorflow.keras.layers import BatchNormalization\n",
    "from tensorflow.keras.layers import Conv2D\n",
    "from tensorflow.keras.layers import MaxPooling2D\n",
    "from tensorflow.keras.layers import Activation\n",
    "from tensorflow.keras.layers import Flatten\n",
    "from tensorflow.keras.layers import Dropout\n",
    "from tensorflow.keras.layers import Dense\n",
    "from tensorflow.keras.models import Model\n",
    "from tensorflow.keras.utils import to_categorical\n",
    "from tensorflow.keras.applications.vgg16 import VGG16, preprocess_input\n",
    "from tensorflow.keras.preprocessing.image import ImageDataGenerator\n",
    "from tensorflow.keras.optimizers import Adam"
   ]
  },
  {
   "cell_type": "code",
   "execution_count": null,
   "id": "1c46a86e-8486-490e-a0ac-c3362e3a1f53",
   "metadata": {
    "gradient": {
     "editing": false,
     "id": "1c46a86e-8486-490e-a0ac-c3362e3a1f53",
     "kernelId": "ddc89993-c281-4b6d-ac17-84eebf753144",
     "source_hidden": false
    }
   },
   "outputs": [],
   "source": [
    "IMAGE_SHAPE = (224, 224)\n",
    "n_classes = 43"
   ]
  },
  {
   "cell_type": "code",
   "execution_count": null,
   "id": "398fdadb-0c73-40bb-a9a1-acfd008cf56f",
   "metadata": {
    "gradient": {
     "editing": false,
     "id": "398fdadb-0c73-40bb-a9a1-acfd008cf56f",
     "kernelId": "ddc89993-c281-4b6d-ac17-84eebf753144",
     "source_hidden": false
    }
   },
   "outputs": [],
   "source": [
    "image_generator = tf.keras.preprocessing.image.ImageDataGenerator(preprocessing_function=preprocess_input, validation_split=0.2)\n",
    "\n",
    "train_dataset = image_generator.flow_from_directory(batch_size=32,\n",
    "                                                 directory='data/Train',\n",
    "                                                 shuffle=True,\n",
    "                                                 target_size=IMAGE_SHAPE, \n",
    "                                                 subset=\"training\",\n",
    "                                                 class_mode='categorical')\n",
    "\n",
    "validation_dataset = image_generator.flow_from_directory(batch_size=32,\n",
    "                                                 directory='data/Train',\n",
    "                                                 shuffle=True,\n",
    "                                                 target_size=IMAGE_SHAPE, \n",
    "                                                 subset=\"validation\",\n",
    "                                                 class_mode='categorical')"
   ]
  },
  {
   "cell_type": "code",
   "execution_count": null,
   "id": "f7c4d9b1-9a4f-489d-b85a-224624ea7e6b",
   "metadata": {
    "gradient": {
     "editing": false,
     "id": "f7c4d9b1-9a4f-489d-b85a-224624ea7e6b",
     "kernelId": "ddc89993-c281-4b6d-ac17-84eebf753144",
     "source_hidden": false
    }
   },
   "outputs": [],
   "source": [
    "test_image_generator = tf.keras.preprocessing.image.ImageDataGenerator(preprocessing_function=preprocess_input)\n",
    "test_image_test_data = image_generator.flow_from_directory(batch_size=32,\n",
    "                                                 directory='data/Test',\n",
    "                                                 shuffle=True,\n",
    "                                                 target_size=IMAGE_SHAPE, \n",
    "                                                 subset=\"training\",\n",
    "                                                 class_mode='categorical')"
   ]
  },
  {
   "cell_type": "code",
   "execution_count": null,
   "id": "e16b4065",
   "metadata": {
    "gradient": {
     "editing": false,
     "id": "e16b4065",
     "kernelId": "ddc89993-c281-4b6d-ac17-84eebf753144"
    }
   },
   "outputs": [],
   "source": [
    "pip install sklearn"
   ]
  },
  {
   "cell_type": "code",
   "execution_count": null,
   "id": "89d32b33",
   "metadata": {
    "gradient": {
     "editing": false,
     "id": "89d32b33",
     "kernelId": "ddc89993-c281-4b6d-ac17-84eebf753144"
    }
   },
   "outputs": [],
   "source": [
    "from sklearn.utils import class_weight\n",
    "import numpy as np\n",
    "\n",
    "class_weights = class_weight.compute_class_weight(\n",
    "                class_weight = 'balanced',\n",
    "                classes = np.unique(train_dataset.classes), \n",
    "                y = train_dataset.classes)\n",
    "class_weights = {i : class_weights[i] for i in range(n_classes)}\n",
    "class_weights"
   ]
  },
  {
   "cell_type": "code",
   "execution_count": null,
   "id": "3fd1f152-8d43-4a65-b9aa-b26455cf5c6c",
   "metadata": {
    "gradient": {
     "editing": false,
     "id": "3fd1f152-8d43-4a65-b9aa-b26455cf5c6c",
     "kernelId": "ddc89993-c281-4b6d-ac17-84eebf753144",
     "source_hidden": false
    }
   },
   "outputs": [],
   "source": [
    "def create_model(input_shape, n_classes, optimizer='rmsprop', fine_tune=0):\n",
    "    \"\"\"\n",
    "    Compiles a model integrated with VGG16 pretrained layers\n",
    "    \n",
    "    input_shape: tuple - the shape of input images (width, height, channels)\n",
    "    n_classes: int - number of classes for the output layer\n",
    "    optimizer: string - instantiated optimizer to use for training. Defaults to 'RMSProp'\n",
    "    fine_tune: int - The number of pre-trained layers to unfreeze.\n",
    "                If set to 0, all pretrained layers will freeze during training\n",
    "    \"\"\"\n",
    "    \n",
    "    # Pretrained convolutional layers are loaded using the Imagenet weights.\n",
    "    # Include_top is set to False, in order to exclude the model's fully-connected layers.\n",
    "    conv_base = VGG16(include_top=True,\n",
    "                     weights='imagenet', \n",
    "                     input_shape=input_shape)\n",
    "    \n",
    "    # Drop FC-1000\n",
    "    conv_base = Model(inputs=conv_base.inputs, outputs=conv_base.layers[-2].output)\n",
    "    \n",
    "    #print(conv_base.summary())\n",
    "    \n",
    "    # Defines how many layers to freeze during training.\n",
    "    # Layers in the convolutional base are switched from trainable to non-trainable\n",
    "    # depending on the size of the fine-tuning parameter.\n",
    "    if fine_tune > 0:\n",
    "        for layer in conv_base.layers[:-fine_tune]:\n",
    "            layer.trainable = False\n",
    "    else:\n",
    "        for layer in conv_base.layers:\n",
    "            layer.trainable = False\n",
    "\n",
    "    # Create a new 'top' of the model (i.e. fully-connected layers).\n",
    "    # This is 'bootstrapping' a new top_model onto the pretrained layers.\n",
    "    top_model = conv_base.output\n",
    "\n",
    "    #top_model = Dropout(0.2)(top_model)\n",
    "    \n",
    "    output_layer = Dense(n_classes, activation='softmax')(top_model)\n",
    "      \n",
    "    # Group the convolutional base and new fully-connected layers into a Model object.\n",
    "    model = Model(inputs=conv_base.input, outputs=output_layer)\n",
    "\n",
    "    # Compiles the model for training.\n",
    "    model.compile(optimizer=optimizer, \n",
    "                  loss='categorical_crossentropy',\n",
    "                  metrics=['accuracy'])\n",
    "    \n",
    "    return model"
   ]
  },
  {
   "cell_type": "code",
   "execution_count": null,
   "id": "9139de07-b6c2-4c77-bb1f-926ceaaecbb2",
   "metadata": {
    "gradient": {
     "editing": false,
     "id": "9139de07-b6c2-4c77-bb1f-926ceaaecbb2",
     "kernelId": "ddc89993-c281-4b6d-ac17-84eebf753144",
     "source_hidden": false
    }
   },
   "outputs": [],
   "source": [
    "input_shape = (224, 224, 3)\n",
    "\n",
    "vgg_model_ft = create_model(input_shape, n_classes)\n",
    "vgg_model_ft.summary()"
   ]
  },
  {
   "cell_type": "code",
   "execution_count": null,
   "id": "8ecbaf4e",
   "metadata": {
    "gradient": {
     "editing": false,
     "id": "8ecbaf4e",
     "kernelId": "ddc89993-c281-4b6d-ac17-84eebf753144"
    }
   },
   "outputs": [],
   "source": [
    "pip install pillow"
   ]
  },
  {
   "cell_type": "code",
   "execution_count": null,
   "id": "bbd35a1a-19f5-4f43-be6b-cb2aec1ec5b6",
   "metadata": {
    "gradient": {
     "editing": false,
     "id": "bbd35a1a-19f5-4f43-be6b-cb2aec1ec5b6",
     "kernelId": "ddc89993-c281-4b6d-ac17-84eebf753144",
     "source_hidden": false
    }
   },
   "outputs": [],
   "source": [
    "import datetime\n",
    "log_dir = \"logs/fit/\" + datetime.datetime.now().strftime(\"%Y%m%d-%H%M%S\")\n",
    "tensorboard_callback = tf.keras.callbacks.TensorBoard(log_dir=log_dir, histogram_freq=1)\n",
    "callback = tf.keras.callbacks.EarlyStopping(restore_best_weights= True, patience=5)\n",
    "batch_size = 32\n",
    "history = vgg_model_ft.fit(\n",
    "    train_dataset,\n",
    "    batch_size = batch_size,\n",
    "    steps_per_epoch = train_dataset.samples // batch_size,\n",
    "    validation_data = validation_dataset, \n",
    "    validation_steps = validation_dataset.samples // batch_size,\n",
    "    verbose = 1,\n",
    "    epochs = 10, \n",
    "    class_weight = class_weights,\n",
    "          callbacks=[tensorboard_callback])"
   ]
  },
  {
   "cell_type": "code",
   "execution_count": null,
   "id": "55f16c54",
   "metadata": {
    "gradient": {
     "editing": false,
     "execution_count": 3,
     "id": "55f16c54",
     "kernelId": "ddc89993-c281-4b6d-ac17-84eebf753144"
    }
   },
   "outputs": [],
   "source": [
    "history_evaluate = vgg_model_ft.evaluate(test_image_test_data, callbacks=[tensorboard_callback])\n",
    "history_evaluate"
   ]
  }
 ],
 "metadata": {
  "kernelspec": {
   "display_name": "Python 3 (ipykernel)",
   "language": "python",
   "name": "python3"
  },
  "language_info": {
   "codemirror_mode": {
    "name": "ipython",
    "version": 3
   },
   "file_extension": ".py",
   "mimetype": "text/x-python",
   "name": "python",
   "nbconvert_exporter": "python",
   "pygments_lexer": "ipython3",
   "version": "3.8.10"
  }
 },
 "nbformat": 4,
 "nbformat_minor": 5
}
